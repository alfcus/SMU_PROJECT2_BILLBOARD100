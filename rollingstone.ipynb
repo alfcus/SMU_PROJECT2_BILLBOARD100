{
 "cells": [
  {
   "cell_type": "code",
   "execution_count": 1,
   "id": "b3d221dc",
   "metadata": {},
   "outputs": [],
   "source": [
    "from splinter import Browser\n",
    "from bs4 import BeautifulSoup\n",
    "from webdriver_manager.chrome import ChromeDriverManager\n",
    "import pandas as pd\n",
    "import time"
   ]
  },
  {
   "cell_type": "code",
   "execution_count": 2,
   "id": "c2581683",
   "metadata": {},
   "outputs": [
    {
     "name": "stderr",
     "output_type": "stream",
     "text": [
      "\n",
      "\n",
      "====== WebDriver manager ======\n",
      "Current google-chrome version is 93.0.4577\n",
      "Get LATEST driver version for 93.0.4577\n",
      "Driver [/Users/jorgeaserrano/.wdm/drivers/chromedriver/mac64/93.0.4577.63/chromedriver] found in cache\n"
     ]
    }
   ],
   "source": [
    "executable_path = {\"executable_path\" : ChromeDriverManager().install()}\n",
    "browser = Browser(\"chrome\", **executable_path, headless=False)"
   ]
  },
  {
   "cell_type": "code",
   "execution_count": 3,
   "id": "4c336475",
   "metadata": {},
   "outputs": [],
   "source": [
    "# URL = \"https://topsongs.toscrape.com/\"\n",
    "url = \"https://www.rollingstone.com/charts/songs/\"\n",
    "browser.visit(url)"
   ]
  },
  {
   "cell_type": "code",
   "execution_count": 4,
   "id": "d5ee04e6",
   "metadata": {},
   "outputs": [],
   "source": [
    "for i in range(6):\n",
    "     browser.find_by_text('Load more').first.click()\n",
    "     time.sleep(1)"
   ]
  },
  {
   "cell_type": "code",
   "execution_count": 5,
   "id": "36889513",
   "metadata": {},
   "outputs": [],
   "source": [
    "html = browser.html\n",
    "soup = BeautifulSoup(html, \"lxml\")"
   ]
  },
  {
   "cell_type": "code",
   "execution_count": 6,
   "id": "516f9da6",
   "metadata": {},
   "outputs": [],
   "source": [
    "big_list = soup.find(\"section\", {\"class\": \"l-section__charts\"})"
   ]
  },
  {
   "cell_type": "code",
   "execution_count": 7,
   "id": "b529d602",
   "metadata": {},
   "outputs": [],
   "source": [
    "listings = soup.find_all(\"div\", {\"class\": \"c-chart__table--top\"})"
   ]
  },
  {
   "cell_type": "code",
   "execution_count": 8,
   "id": "29bf908d",
   "metadata": {},
   "outputs": [
    {
     "name": "stdout",
     "output_type": "stream",
     "text": [
      "100\n"
     ]
    }
   ],
   "source": [
    "print(len(listings))"
   ]
  },
  {
   "cell_type": "code",
   "execution_count": 9,
   "id": "43838e4c",
   "metadata": {},
   "outputs": [],
   "source": [
    "ranks = []\n",
    "titles = []\n",
    "captions = []\n",
    "\n",
    "\n",
    "for listing in listings:\n",
    "    rank = listing.find(\"div\", {\"class\": \"c-chart__table--rank\"}).text\n",
    "    title = listing.find(\"div\", {\"class\": \"c-chart__table--title\"}).text\n",
    "    caption = listing.find(\"div\", {\"class\": \"c-chart__table--caption\"}).text\n",
    "\n",
    "    ranks.append(rank)\n",
    "    titles.append(title)\n",
    "    captions.append(caption)\n",
    "\n",
    "\n",
    "df = pd.DataFrame()\n",
    "df[\"Rank\"] = ranks\n",
    "df[\"Title\"] = titles\n",
    "df[\"Artist\"] = captions"
   ]
  },
  {
   "cell_type": "code",
   "execution_count": 10,
   "id": "9a64048e",
   "metadata": {},
   "outputs": [
    {
     "data": {
      "text/html": [
       "<div>\n",
       "<style scoped>\n",
       "    .dataframe tbody tr th:only-of-type {\n",
       "        vertical-align: middle;\n",
       "    }\n",
       "\n",
       "    .dataframe tbody tr th {\n",
       "        vertical-align: top;\n",
       "    }\n",
       "\n",
       "    .dataframe thead th {\n",
       "        text-align: right;\n",
       "    }\n",
       "</style>\n",
       "<table border=\"1\" class=\"dataframe\">\n",
       "  <thead>\n",
       "    <tr style=\"text-align: right;\">\n",
       "      <th></th>\n",
       "      <th>Rank</th>\n",
       "      <th>Title</th>\n",
       "      <th>Artist</th>\n",
       "    </tr>\n",
       "  </thead>\n",
       "  <tbody>\n",
       "    <tr>\n",
       "      <th>0</th>\n",
       "      <td>1</td>\n",
       "      <td>Way 2 Sexy</td>\n",
       "      <td>Drake feat. Future, Young Thug</td>\n",
       "    </tr>\n",
       "    <tr>\n",
       "      <th>1</th>\n",
       "      <td>2</td>\n",
       "      <td>Girls Want Girls</td>\n",
       "      <td>Drake feat. Lil Baby</td>\n",
       "    </tr>\n",
       "    <tr>\n",
       "      <th>2</th>\n",
       "      <td>3</td>\n",
       "      <td>Fair Trade</td>\n",
       "      <td>Drake feat. Travis Scott</td>\n",
       "    </tr>\n",
       "    <tr>\n",
       "      <th>3</th>\n",
       "      <td>4</td>\n",
       "      <td>Champagne Poetry</td>\n",
       "      <td>Drake</td>\n",
       "    </tr>\n",
       "    <tr>\n",
       "      <th>4</th>\n",
       "      <td>5</td>\n",
       "      <td>Knife Talk</td>\n",
       "      <td>Drake feat. 21 Savage, Project Pat</td>\n",
       "    </tr>\n",
       "    <tr>\n",
       "      <th>...</th>\n",
       "      <td>...</td>\n",
       "      <td>...</td>\n",
       "      <td>...</td>\n",
       "    </tr>\n",
       "    <tr>\n",
       "      <th>95</th>\n",
       "      <td>96</td>\n",
       "      <td>No Role Modelz</td>\n",
       "      <td>J. Cole</td>\n",
       "    </tr>\n",
       "    <tr>\n",
       "      <th>96</th>\n",
       "      <td>97</td>\n",
       "      <td>Whole Lotta Money</td>\n",
       "      <td>Bia feat. Nicki Minaj</td>\n",
       "    </tr>\n",
       "    <tr>\n",
       "      <th>97</th>\n",
       "      <td>98</td>\n",
       "      <td>Late At Night</td>\n",
       "      <td>Roddy Ricch</td>\n",
       "    </tr>\n",
       "    <tr>\n",
       "      <th>98</th>\n",
       "      <td>99</td>\n",
       "      <td>Beautiful Mistakes</td>\n",
       "      <td>Maroon 5, Megan Thee Stallion</td>\n",
       "    </tr>\n",
       "    <tr>\n",
       "      <th>99</th>\n",
       "      <td>100</td>\n",
       "      <td>Keep My Spirit Alive</td>\n",
       "      <td>Kanye West</td>\n",
       "    </tr>\n",
       "  </tbody>\n",
       "</table>\n",
       "<p>100 rows × 3 columns</p>\n",
       "</div>"
      ],
      "text/plain": [
       "   Rank                 Title                              Artist\n",
       "0     1            Way 2 Sexy      Drake feat. Future, Young Thug\n",
       "1     2      Girls Want Girls                Drake feat. Lil Baby\n",
       "2     3            Fair Trade            Drake feat. Travis Scott\n",
       "3     4      Champagne Poetry                               Drake\n",
       "4     5            Knife Talk  Drake feat. 21 Savage, Project Pat\n",
       "..  ...                   ...                                 ...\n",
       "95   96        No Role Modelz                             J. Cole\n",
       "96   97     Whole Lotta Money               Bia feat. Nicki Minaj\n",
       "97   98         Late At Night                         Roddy Ricch\n",
       "98   99    Beautiful Mistakes       Maroon 5, Megan Thee Stallion\n",
       "99  100  Keep My Spirit Alive                          Kanye West\n",
       "\n",
       "[100 rows x 3 columns]"
      ]
     },
     "execution_count": 10,
     "metadata": {},
     "output_type": "execute_result"
    }
   ],
   "source": [
    "df"
   ]
  },
  {
   "cell_type": "code",
   "execution_count": null,
   "id": "53b6cc39",
   "metadata": {},
   "outputs": [],
   "source": []
  },
  {
   "cell_type": "code",
   "execution_count": null,
   "id": "f7b056f0",
   "metadata": {},
   "outputs": [],
   "source": []
  },
  {
   "cell_type": "code",
   "execution_count": null,
   "id": "5afa0660",
   "metadata": {},
   "outputs": [],
   "source": []
  },
  {
   "cell_type": "code",
   "execution_count": null,
   "id": "bcb3cd2d",
   "metadata": {},
   "outputs": [],
   "source": []
  }
 ],
 "metadata": {
  "kernelspec": {
   "display_name": "Python 3",
   "language": "python",
   "name": "python3"
  },
  "language_info": {
   "codemirror_mode": {
    "name": "ipython",
    "version": 3
   },
   "file_extension": ".py",
   "mimetype": "text/x-python",
   "name": "python",
   "nbconvert_exporter": "python",
   "pygments_lexer": "ipython3",
   "version": "3.8.8"
  }
 },
 "nbformat": 4,
 "nbformat_minor": 5
}
