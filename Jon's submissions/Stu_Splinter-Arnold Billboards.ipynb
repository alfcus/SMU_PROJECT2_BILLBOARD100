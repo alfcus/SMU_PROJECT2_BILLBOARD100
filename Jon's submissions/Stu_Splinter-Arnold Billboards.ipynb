{
 "cells": [
  {
   "cell_type": "code",
   "execution_count": 1,
   "metadata": {},
   "outputs": [],
   "source": [
    "from splinter import Browser\n",
    "from bs4 import BeautifulSoup\n",
    "from webdriver_manager.chrome import ChromeDriverManager\n",
    "import pandas as pd"
   ]
  },
  {
   "cell_type": "code",
   "execution_count": 2,
   "metadata": {},
   "outputs": [
    {
     "name": "stderr",
     "output_type": "stream",
     "text": [
      "\n",
      "\n",
      "====== WebDriver manager ======\n",
      "Current google-chrome version is 93.0.4577\n",
      "Get LATEST driver version for 93.0.4577\n",
      "Driver [C:\\Users\\arnol\\.wdm\\drivers\\chromedriver\\win32\\93.0.4577.63\\chromedriver.exe] found in cache\n"
     ]
    }
   ],
   "source": [
    "executable_path = {'executable_path': ChromeDriverManager().install()}\n",
    "browser = Browser('chrome', **executable_path, headless=False)"
   ]
  },
  {
   "cell_type": "code",
   "execution_count": 3,
   "metadata": {},
   "outputs": [],
   "source": [
    "# url = 'http://books.toscrape.com/'\n",
    "url = \"https://www.billboard.com/charts/hot-100\"\n",
    "browser.visit(url)"
   ]
  },
  {
   "cell_type": "code",
   "execution_count": 5,
   "metadata": {},
   "outputs": [],
   "source": [
    "html = browser.html\n",
    "soup = BeautifulSoup(html, \"lxml\")"
   ]
  },
  {
   "cell_type": "code",
   "execution_count": 6,
   "metadata": {},
   "outputs": [
    {
     "data": {
      "text/plain": [
       "100"
      ]
     },
     "execution_count": 6,
     "metadata": {},
     "output_type": "execute_result"
    }
   ],
   "source": [
    "big_list = soup.find(\"ol\", {\"class\": \"chart-list__elements\"})\n",
    "billboard = big_list.find_all(\"li\", {\"class\": \"chart-list__element\"})\n",
    "len(billboard)"
   ]
  },
  {
   "cell_type": "code",
   "execution_count": 11,
   "metadata": {},
   "outputs": [],
   "source": [
    "test =billboard[0]"
   ]
  },
  {
   "cell_type": "code",
   "execution_count": 12,
   "metadata": {},
   "outputs": [
    {
     "data": {
      "text/plain": [
       "'1'"
      ]
     },
     "execution_count": 12,
     "metadata": {},
     "output_type": "execute_result"
    }
   ],
   "source": [
    "test.find(\"span\", {\"class\": \"chart-element__rank__number\"}).text"
   ]
  },
  {
   "cell_type": "code",
   "execution_count": 9,
   "metadata": {},
   "outputs": [
    {
     "data": {
      "text/plain": [
       "'Butter'"
      ]
     },
     "execution_count": 9,
     "metadata": {},
     "output_type": "execute_result"
    }
   ],
   "source": [
    "test.find(\"span\", {\"class\": \"chart-element__information__song\"}).text"
   ]
  },
  {
   "cell_type": "code",
   "execution_count": 10,
   "metadata": {},
   "outputs": [
    {
     "data": {
      "text/plain": [
       "'BTS'"
      ]
     },
     "execution_count": 10,
     "metadata": {},
     "output_type": "execute_result"
    }
   ],
   "source": [
    "test.find(\"span\", {\"class\": \"chart-element__information__artist\"}).text"
   ]
  },
  {
   "cell_type": "code",
   "execution_count": null,
   "metadata": {},
   "outputs": [],
   "source": []
  },
  {
   "cell_type": "code",
   "execution_count": null,
   "metadata": {},
   "outputs": [],
   "source": []
  },
  {
   "cell_type": "code",
   "execution_count": 6,
   "metadata": {},
   "outputs": [],
   "source": [
    "# big_list = soup.find(\"div\", {\"charts\": \"artist_name\"})\n",
    "# books = big_list.find_all(\"artist_name\")"
   ]
  },
  {
   "cell_type": "code",
   "execution_count": 16,
   "metadata": {},
   "outputs": [
    {
     "data": {
      "text/html": [
       "<div>\n",
       "<style scoped>\n",
       "    .dataframe tbody tr th:only-of-type {\n",
       "        vertical-align: middle;\n",
       "    }\n",
       "\n",
       "    .dataframe tbody tr th {\n",
       "        vertical-align: top;\n",
       "    }\n",
       "\n",
       "    .dataframe thead th {\n",
       "        text-align: right;\n",
       "    }\n",
       "</style>\n",
       "<table border=\"1\" class=\"dataframe\">\n",
       "  <thead>\n",
       "    <tr style=\"text-align: right;\">\n",
       "      <th></th>\n",
       "      <th>Rank</th>\n",
       "      <th>Song</th>\n",
       "      <th>Artist</th>\n",
       "    </tr>\n",
       "  </thead>\n",
       "  <tbody>\n",
       "    <tr>\n",
       "      <th>0</th>\n",
       "      <td>1</td>\n",
       "      <td>Butter</td>\n",
       "      <td>BTS</td>\n",
       "    </tr>\n",
       "    <tr>\n",
       "      <th>1</th>\n",
       "      <td>2</td>\n",
       "      <td>Stay</td>\n",
       "      <td>The Kid LAROI &amp; Justin Bieber</td>\n",
       "    </tr>\n",
       "    <tr>\n",
       "      <th>2</th>\n",
       "      <td>3</td>\n",
       "      <td>Bad Habits</td>\n",
       "      <td>Ed Sheeran</td>\n",
       "    </tr>\n",
       "    <tr>\n",
       "      <th>3</th>\n",
       "      <td>4</td>\n",
       "      <td>Good 4 U</td>\n",
       "      <td>Olivia Rodrigo</td>\n",
       "    </tr>\n",
       "    <tr>\n",
       "      <th>4</th>\n",
       "      <td>5</td>\n",
       "      <td>Kiss Me More</td>\n",
       "      <td>Doja Cat Featuring SZA</td>\n",
       "    </tr>\n",
       "    <tr>\n",
       "      <th>...</th>\n",
       "      <td>...</td>\n",
       "      <td>...</td>\n",
       "      <td>...</td>\n",
       "    </tr>\n",
       "    <tr>\n",
       "      <th>95</th>\n",
       "      <td>96</td>\n",
       "      <td>In Da Getto</td>\n",
       "      <td>J Balvin &amp; Skrillex</td>\n",
       "    </tr>\n",
       "    <tr>\n",
       "      <th>96</th>\n",
       "      <td>97</td>\n",
       "      <td>Brutal</td>\n",
       "      <td>Olivia Rodrigo</td>\n",
       "    </tr>\n",
       "    <tr>\n",
       "      <th>97</th>\n",
       "      <td>98</td>\n",
       "      <td>AM</td>\n",
       "      <td>Nio Garcia X J Balvin X Bad Bunny</td>\n",
       "    </tr>\n",
       "    <tr>\n",
       "      <th>98</th>\n",
       "      <td>99</td>\n",
       "      <td>Repeat It</td>\n",
       "      <td>Lil Tecca &amp; Gunna</td>\n",
       "    </tr>\n",
       "    <tr>\n",
       "      <th>99</th>\n",
       "      <td>100</td>\n",
       "      <td>Matt Hardy 999</td>\n",
       "      <td>Trippie Redd Featuring Juice WRLD</td>\n",
       "    </tr>\n",
       "  </tbody>\n",
       "</table>\n",
       "<p>100 rows × 3 columns</p>\n",
       "</div>"
      ],
      "text/plain": [
       "   Rank            Song                             Artist\n",
       "0     1          Butter                                BTS\n",
       "1     2            Stay      The Kid LAROI & Justin Bieber\n",
       "2     3      Bad Habits                         Ed Sheeran\n",
       "3     4        Good 4 U                     Olivia Rodrigo\n",
       "4     5    Kiss Me More             Doja Cat Featuring SZA\n",
       "..  ...             ...                                ...\n",
       "95   96     In Da Getto                J Balvin & Skrillex\n",
       "96   97          Brutal                     Olivia Rodrigo\n",
       "97   98              AM  Nio Garcia X J Balvin X Bad Bunny\n",
       "98   99       Repeat It                  Lil Tecca & Gunna\n",
       "99  100  Matt Hardy 999  Trippie Redd Featuring Juice WRLD\n",
       "\n",
       "[100 rows x 3 columns]"
      ]
     },
     "execution_count": 16,
     "metadata": {},
     "output_type": "execute_result"
    }
   ],
   "source": [
    "ranks = []\n",
    "songs = []\n",
    "artists = []\n",
    "\n",
    "\n",
    "\n",
    "for song in billboard: \n",
    "    rank= song.find(\"span\", {\"class\": \"chart-element__rank__number\"}).text\n",
    "    title = song.find(\"span\", {\"class\": \"chart-element__information__song\"}).text\n",
    "    artist = song.find(\"span\", {\"class\": \"chart-element__information__artist\"}).text\n",
    "    \n",
    "    ranks.append(rank)\n",
    "    songs.append(title)\n",
    "    artists.append(artist)\n",
    "    \n",
    "df = pd.DataFrame()\n",
    "df[\"Rank\"] = ranks\n",
    "df[\"Song\"] = songs\n",
    "df[\"Artist\"] = artists\n",
    "df"
   ]
  },
  {
   "cell_type": "code",
   "execution_count": null,
   "metadata": {},
   "outputs": [],
   "source": [
    "df"
   ]
  },
  {
   "cell_type": "code",
   "execution_count": null,
   "metadata": {},
   "outputs": [],
   "source": []
  },
  {
   "cell_type": "code",
   "execution_count": null,
   "metadata": {},
   "outputs": [],
   "source": []
  },
  {
   "cell_type": "code",
   "execution_count": null,
   "metadata": {},
   "outputs": [],
   "source": [
    "# Find the back button link to click\n",
    "html = browser.html\n",
    "soup = BeautifulSoup(html, \"lxml\")\n",
    "\n",
    "# find the date (only time element), grab the first sibling (aka the first child of the parent)\n",
    "link_to_click = soup.find(\"time\").parent.contents[0][\"href\"]\n",
    "browser.links.find_by_href(link_to_click).click()"
   ]
  },
  {
   "cell_type": "code",
   "execution_count": null,
   "metadata": {},
   "outputs": [],
   "source": []
  },
  {
   "cell_type": "code",
   "execution_count": null,
   "metadata": {},
   "outputs": [],
   "source": []
  },
  {
   "cell_type": "code",
   "execution_count": null,
   "metadata": {},
   "outputs": [],
   "source": [
    "# Put it all together\n",
    "weeks = 5\n",
    "main_df = pd.DataFrame()\n",
    "\n",
    "# navigate to url\n",
    "url = \"https://www.nytimes.com/books/best-sellers/2021/09/05/hardcover-fiction/\"\n",
    "browser.visit(url)\n",
    "\n",
    "for i in range(weeks): # for how many times we want to click the button\n",
    "    # grab and soupify the html\n",
    "    html = browser.html\n",
    "    soup = BeautifulSoup(html, \"lxml\")\n",
    "    \n",
    "    # grab the main ordered list, and all li elements inside\n",
    "    big_list = soup.find(\"ol\", {\"data-testid\": \"topic-list\"})\n",
    "    books = big_list.find_all(\"li\")\n",
    "    \n",
    "    # init columns\n",
    "    titles = []\n",
    "    authors = []\n",
    "    ranks = []\n",
    "\n",
    "    rank = 1\n",
    "    \n",
    "    # for each list element\n",
    "    for book in books:    \n",
    "        thing = book.find_all(\"article\", {\"itemprop\": \"itemListElement\"})\n",
    "        \n",
    "        # make sure that element contains a ranked book\n",
    "        if len(thing) > 0:    \n",
    "            # parse out the info by searching via the itemprop attribute\n",
    "            title = book.find(\"h3\", {\"itemprop\": \"name\"}).text\n",
    "            author = book.find(\"p\", {\"itemprop\": \"author\"}).text\n",
    "            \n",
    "            # append to list\n",
    "            titles.append(title)\n",
    "            authors.append(author)\n",
    "            ranks.append(rank)\n",
    "            rank += 1\n",
    "    \n",
    "    # make mini dataframe\n",
    "    df = pd.DataFrame()\n",
    "    df[\"Rank\"] = ranks\n",
    "    df[\"Book\"] = titles\n",
    "    df[\"Author\"] = authors\n",
    "    df[\"Date\"] = soup.find(\"time\").text\n",
    "    \n",
    "    # append to main dataframe\n",
    "    main_df = main_df.append(df)\n",
    "    \n",
    "    # click the link\n",
    "    link_to_click = soup.find(\"time\").parent.contents[0][\"href\"]\n",
    "    browser.links.find_by_href(link_to_click).click()"
   ]
  },
  {
   "cell_type": "code",
   "execution_count": null,
   "metadata": {},
   "outputs": [],
   "source": [
    "main_df"
   ]
  },
  {
   "cell_type": "code",
   "execution_count": null,
   "metadata": {},
   "outputs": [],
   "source": [
    "main_df.Author.unique()"
   ]
  },
  {
   "cell_type": "code",
   "execution_count": null,
   "metadata": {},
   "outputs": [],
   "source": []
  },
  {
   "cell_type": "code",
   "execution_count": null,
   "metadata": {},
   "outputs": [],
   "source": []
  },
  {
   "cell_type": "code",
   "execution_count": null,
   "metadata": {},
   "outputs": [],
   "source": []
  },
  {
   "cell_type": "code",
   "execution_count": null,
   "metadata": {},
   "outputs": [],
   "source": []
  }
 ],
 "metadata": {
  "kernelspec": {
   "display_name": "Python 3",
   "language": "python",
   "name": "python3"
  },
  "language_info": {
   "codemirror_mode": {
    "name": "ipython",
    "version": 3
   },
   "file_extension": ".py",
   "mimetype": "text/x-python",
   "name": "python",
   "nbconvert_exporter": "python",
   "pygments_lexer": "ipython3",
   "version": "3.8.8"
  },
  "varInspector": {
   "cols": {
    "lenName": 16,
    "lenType": 16,
    "lenVar": 40
   },
   "kernels_config": {
    "python": {
     "delete_cmd_postfix": "",
     "delete_cmd_prefix": "del ",
     "library": "var_list.py",
     "varRefreshCmd": "print(var_dic_list())"
    },
    "r": {
     "delete_cmd_postfix": ") ",
     "delete_cmd_prefix": "rm(",
     "library": "var_list.r",
     "varRefreshCmd": "cat(var_dic_list()) "
    }
   },
   "types_to_exclude": [
    "module",
    "function",
    "builtin_function_or_method",
    "instance",
    "_Feature"
   ],
   "window_display": false
  }
 },
 "nbformat": 4,
 "nbformat_minor": 2
}
