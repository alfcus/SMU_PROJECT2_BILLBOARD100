{
 "cells": [
  {
   "cell_type": "code",
   "execution_count": 1,
   "metadata": {},
   "outputs": [],
   "source": [
    "from splinter import Browser\n",
    "from bs4 import BeautifulSoup\n",
    "from webdriver_manager.chrome import ChromeDriverManager\n",
    "import pandas as pd"
   ]
  },
  {
   "cell_type": "code",
   "execution_count": 2,
   "metadata": {},
   "outputs": [
    {
     "name": "stderr",
     "output_type": "stream",
     "text": [
      "\n",
      "\n",
      "====== WebDriver manager ======\n",
      "Current google-chrome version is 93.0.4577\n",
      "Get LATEST driver version for 93.0.4577\n",
      "Driver [C:\\Users\\arnol\\.wdm\\drivers\\chromedriver\\win32\\93.0.4577.63\\chromedriver.exe] found in cache\n"
     ]
    }
   ],
   "source": [
    "executable_path = {'executable_path': ChromeDriverManager().install()}\n",
    "browser = Browser('chrome', **executable_path, headless=False)"
   ]
  },
  {
   "cell_type": "code",
   "execution_count": 3,
   "metadata": {},
   "outputs": [],
   "source": [
    "# url = 'http://books.toscrape.com/'\n",
    "url = \"https://music.apple.com/us/playlist/top-100-usa/pl.606afcbb70264d2eb2b51d8dbcfa6a12\"\n",
    "browser.visit(url)"
   ]
  },
  {
   "cell_type": "code",
   "execution_count": 4,
   "metadata": {},
   "outputs": [],
   "source": [
    "html = browser.html\n",
    "soup = BeautifulSoup(html, \"lxml\")"
   ]
  },
  {
   "cell_type": "code",
   "execution_count": 5,
   "metadata": {},
   "outputs": [
    {
     "data": {
      "text/plain": [
       "100"
      ]
     },
     "execution_count": 5,
     "metadata": {},
     "output_type": "execute_result"
    }
   ],
   "source": [
    "big_list = soup.find(\"div\", {\"class\": \"songs-list\"})\n",
    "apple = big_list.find_all(\"div\", {\"class\": \"songs-list-row\"})\n",
    "len(apple)"
   ]
  },
  {
   "cell_type": "code",
   "execution_count": 6,
   "metadata": {},
   "outputs": [],
   "source": [
    "# big_list = soup.find(\"span\", {\"class\": \"songs-list-row \"})\n",
    "# big_list"
   ]
  },
  {
   "cell_type": "code",
   "execution_count": 7,
   "metadata": {},
   "outputs": [],
   "source": [
    "test =apple[0]"
   ]
  },
  {
   "cell_type": "code",
   "execution_count": 22,
   "metadata": {},
   "outputs": [
    {
     "data": {
      "text/plain": [
       "'Drake'"
      ]
     },
     "execution_count": 22,
     "metadata": {},
     "output_type": "execute_result"
    }
   ],
   "source": [
    "test.find(\"a\", {\"class\": \"songs-list-row__link\"}).text"
   ]
  },
  {
   "cell_type": "code",
   "execution_count": 24,
   "metadata": {},
   "outputs": [
    {
     "data": {
      "text/plain": [
       "'Way 2 Sexy (feat. Future & Young Thug)'"
      ]
     },
     "execution_count": 24,
     "metadata": {},
     "output_type": "execute_result"
    }
   ],
   "source": [
    "test.find(\"div\", {\"class\": \"songs-list-row__song-name\"}).text"
   ]
  },
  {
   "cell_type": "code",
   "execution_count": 25,
   "metadata": {},
   "outputs": [
    {
     "data": {
      "text/plain": [
       "'1'"
      ]
     },
     "execution_count": 25,
     "metadata": {},
     "output_type": "execute_result"
    }
   ],
   "source": [
    "test.find(\"div\", {\"class\": \"songs-list-row__rank\"}).text"
   ]
  },
  {
   "cell_type": "code",
   "execution_count": 27,
   "metadata": {},
   "outputs": [
    {
     "data": {
      "text/plain": [
       "'Drake'"
      ]
     },
     "execution_count": 27,
     "metadata": {},
     "output_type": "execute_result"
    }
   ],
   "source": [
    "test.find(\"a\", {\"class\": \"songs-list-row__link\"}).text"
   ]
  },
  {
   "cell_type": "code",
   "execution_count": null,
   "metadata": {},
   "outputs": [],
   "source": [
    "songs-list__song-link-wrapper"
   ]
  },
  {
   "cell_type": "code",
   "execution_count": 29,
   "metadata": {},
   "outputs": [
    {
     "data": {
      "text/plain": [
       "'\\n Drake '"
      ]
     },
     "execution_count": 29,
     "metadata": {},
     "output_type": "execute_result"
    }
   ],
   "source": [
    "test.find(\"div\", {\"class\": \"songs-list__song-link-wrapper\", }).text"
   ]
  },
  {
   "cell_type": "code",
   "execution_count": 13,
   "metadata": {},
   "outputs": [
    {
     "data": {
      "text/html": [
       "<div>\n",
       "<style scoped>\n",
       "    .dataframe tbody tr th:only-of-type {\n",
       "        vertical-align: middle;\n",
       "    }\n",
       "\n",
       "    .dataframe tbody tr th {\n",
       "        vertical-align: top;\n",
       "    }\n",
       "\n",
       "    .dataframe thead th {\n",
       "        text-align: right;\n",
       "    }\n",
       "</style>\n",
       "<table border=\"1\" class=\"dataframe\">\n",
       "  <thead>\n",
       "    <tr style=\"text-align: right;\">\n",
       "      <th></th>\n",
       "      <th>Rank</th>\n",
       "      <th>Song</th>\n",
       "      <th>Artist</th>\n",
       "    </tr>\n",
       "  </thead>\n",
       "  <tbody>\n",
       "    <tr>\n",
       "      <th>0</th>\n",
       "      <td>1</td>\n",
       "      <td>Way 2 Sexy (feat. Future &amp; Young Thug)</td>\n",
       "      <td>Drake</td>\n",
       "    </tr>\n",
       "    <tr>\n",
       "      <th>1</th>\n",
       "      <td>2</td>\n",
       "      <td>Knife Talk (feat. 21 Savage &amp; Project Pat)</td>\n",
       "      <td>Drake</td>\n",
       "    </tr>\n",
       "    <tr>\n",
       "      <th>2</th>\n",
       "      <td>3</td>\n",
       "      <td>Girls Want Girls (feat. Lil Baby)</td>\n",
       "      <td>Drake</td>\n",
       "    </tr>\n",
       "    <tr>\n",
       "      <th>3</th>\n",
       "      <td>4</td>\n",
       "      <td>Fair Trade (feat. Travis Scott)</td>\n",
       "      <td>Drake</td>\n",
       "    </tr>\n",
       "    <tr>\n",
       "      <th>4</th>\n",
       "      <td>5</td>\n",
       "      <td>Champagne Poetry</td>\n",
       "      <td>Drake</td>\n",
       "    </tr>\n",
       "    <tr>\n",
       "      <th>...</th>\n",
       "      <td>...</td>\n",
       "      <td>...</td>\n",
       "      <td>...</td>\n",
       "    </tr>\n",
       "    <tr>\n",
       "      <th>95</th>\n",
       "      <td>96</td>\n",
       "      <td>Memory</td>\n",
       "      <td>Kane Brown</td>\n",
       "    </tr>\n",
       "    <tr>\n",
       "      <th>96</th>\n",
       "      <td>97</td>\n",
       "      <td>durag activity</td>\n",
       "      <td>Baby Keem</td>\n",
       "    </tr>\n",
       "    <tr>\n",
       "      <th>97</th>\n",
       "      <td>98</td>\n",
       "      <td>No Child Left Behind</td>\n",
       "      <td>Kanye West</td>\n",
       "    </tr>\n",
       "    <tr>\n",
       "      <th>98</th>\n",
       "      <td>99</td>\n",
       "      <td>DÁKITI</td>\n",
       "      <td>Bad Bunny</td>\n",
       "    </tr>\n",
       "    <tr>\n",
       "      <th>99</th>\n",
       "      <td>100</td>\n",
       "      <td>booman</td>\n",
       "      <td>Baby Keem</td>\n",
       "    </tr>\n",
       "  </tbody>\n",
       "</table>\n",
       "<p>100 rows × 3 columns</p>\n",
       "</div>"
      ],
      "text/plain": [
       "   Rank                                        Song      Artist\n",
       "0     1      Way 2 Sexy (feat. Future & Young Thug)       Drake\n",
       "1     2  Knife Talk (feat. 21 Savage & Project Pat)       Drake\n",
       "2     3           Girls Want Girls (feat. Lil Baby)       Drake\n",
       "3     4             Fair Trade (feat. Travis Scott)       Drake\n",
       "4     5                            Champagne Poetry       Drake\n",
       "..  ...                                         ...         ...\n",
       "95   96                                      Memory  Kane Brown\n",
       "96   97                              durag activity   Baby Keem\n",
       "97   98                        No Child Left Behind  Kanye West\n",
       "98   99                                      DÁKITI   Bad Bunny\n",
       "99  100                                      booman   Baby Keem\n",
       "\n",
       "[100 rows x 3 columns]"
      ]
     },
     "execution_count": 13,
     "metadata": {},
     "output_type": "execute_result"
    }
   ],
   "source": [
    "ranks = []\n",
    "songs = []\n",
    "artists = []\n",
    "\n",
    "\n",
    "\n",
    "for song in apple: \n",
    "    rank= song.find(\"div\", {\"class\": \"songs-list-row__rank\"}).text\n",
    "    title = song.find(\"div\", {\"class\": \"songs-list-row__song-name\"}).text\n",
    "    artist = song.find(\"a\", {\"class\": \"songs-list-row__link\"}).text\n",
    "    \n",
    "    ranks.append(rank)\n",
    "    songs.append(title)\n",
    "    artists.append(artist)\n",
    "    \n",
    "df = pd.DataFrame()\n",
    "df[\"Rank\"] = ranks\n",
    "df[\"Song\"] = songs\n",
    "df[\"Artist\"] = artists\n",
    "df"
   ]
  },
  {
   "cell_type": "code",
   "execution_count": null,
   "metadata": {},
   "outputs": [],
   "source": [
    "df"
   ]
  },
  {
   "cell_type": "code",
   "execution_count": null,
   "metadata": {},
   "outputs": [],
   "source": []
  },
  {
   "cell_type": "code",
   "execution_count": null,
   "metadata": {},
   "outputs": [],
   "source": []
  },
  {
   "cell_type": "code",
   "execution_count": null,
   "metadata": {},
   "outputs": [],
   "source": [
    "# Find the back button link to click\n",
    "html = browser.html\n",
    "soup = BeautifulSoup(html, \"lxml\")\n",
    "\n",
    "# find the date (only time element), grab the first sibling (aka the first child of the parent)\n",
    "link_to_click = soup.find(\"time\").parent.contents[0][\"href\"]\n",
    "browser.links.find_by_href(link_to_click).click()"
   ]
  },
  {
   "cell_type": "code",
   "execution_count": null,
   "metadata": {},
   "outputs": [],
   "source": []
  },
  {
   "cell_type": "code",
   "execution_count": null,
   "metadata": {},
   "outputs": [],
   "source": []
  },
  {
   "cell_type": "code",
   "execution_count": null,
   "metadata": {},
   "outputs": [],
   "source": [
    "# Put it all together\n",
    "weeks = 5\n",
    "main_df = pd.DataFrame()\n",
    "\n",
    "# navigate to url\n",
    "url = \"https://www.nytimes.com/books/best-sellers/2021/09/05/hardcover-fiction/\"\n",
    "browser.visit(url)\n",
    "\n",
    "for i in range(weeks): # for how many times we want to click the button\n",
    "    # grab and soupify the html\n",
    "    html = browser.html\n",
    "    soup = BeautifulSoup(html, \"lxml\")\n",
    "    \n",
    "    # grab the main ordered list, and all li elements inside\n",
    "    big_list = soup.find(\"ol\", {\"data-testid\": \"topic-list\"})\n",
    "    books = big_list.find_all(\"li\")\n",
    "    \n",
    "    # init columns\n",
    "    titles = []\n",
    "    authors = []\n",
    "    ranks = []\n",
    "\n",
    "    rank = 1\n",
    "    \n",
    "    # for each list element\n",
    "    for book in books:    \n",
    "        thing = book.find_all(\"article\", {\"itemprop\": \"itemListElement\"})\n",
    "        \n",
    "        # make sure that element contains a ranked book\n",
    "        if len(thing) > 0:    \n",
    "            # parse out the info by searching via the itemprop attribute\n",
    "            title = book.find(\"h3\", {\"itemprop\": \"name\"}).text\n",
    "            author = book.find(\"p\", {\"itemprop\": \"author\"}).text\n",
    "            \n",
    "            # append to list\n",
    "            titles.append(title)\n",
    "            authors.append(author)\n",
    "            ranks.append(rank)\n",
    "            rank += 1\n",
    "    \n",
    "    # make mini dataframe\n",
    "    df = pd.DataFrame()\n",
    "    df[\"Rank\"] = ranks\n",
    "    df[\"Book\"] = titles\n",
    "    df[\"Author\"] = authors\n",
    "    df[\"Date\"] = soup.find(\"time\").text\n",
    "    \n",
    "    # append to main dataframe\n",
    "    main_df = main_df.append(df)\n",
    "    \n",
    "    # click the link\n",
    "    link_to_click = soup.find(\"time\").parent.contents[0][\"href\"]\n",
    "    browser.links.find_by_href(link_to_click).click()"
   ]
  },
  {
   "cell_type": "code",
   "execution_count": null,
   "metadata": {},
   "outputs": [],
   "source": [
    "main_df"
   ]
  },
  {
   "cell_type": "code",
   "execution_count": null,
   "metadata": {},
   "outputs": [],
   "source": [
    "main_df.Author.unique()"
   ]
  },
  {
   "cell_type": "code",
   "execution_count": null,
   "metadata": {},
   "outputs": [],
   "source": []
  },
  {
   "cell_type": "code",
   "execution_count": null,
   "metadata": {},
   "outputs": [],
   "source": []
  },
  {
   "cell_type": "code",
   "execution_count": null,
   "metadata": {},
   "outputs": [],
   "source": []
  },
  {
   "cell_type": "code",
   "execution_count": null,
   "metadata": {},
   "outputs": [],
   "source": []
  }
 ],
 "metadata": {
  "kernelspec": {
   "display_name": "Python 3",
   "language": "python",
   "name": "python3"
  },
  "language_info": {
   "codemirror_mode": {
    "name": "ipython",
    "version": 3
   },
   "file_extension": ".py",
   "mimetype": "text/x-python",
   "name": "python",
   "nbconvert_exporter": "python",
   "pygments_lexer": "ipython3",
   "version": "3.8.8"
  },
  "varInspector": {
   "cols": {
    "lenName": 16,
    "lenType": 16,
    "lenVar": 40
   },
   "kernels_config": {
    "python": {
     "delete_cmd_postfix": "",
     "delete_cmd_prefix": "del ",
     "library": "var_list.py",
     "varRefreshCmd": "print(var_dic_list())"
    },
    "r": {
     "delete_cmd_postfix": ") ",
     "delete_cmd_prefix": "rm(",
     "library": "var_list.r",
     "varRefreshCmd": "cat(var_dic_list()) "
    }
   },
   "types_to_exclude": [
    "module",
    "function",
    "builtin_function_or_method",
    "instance",
    "_Feature"
   ],
   "window_display": false
  }
 },
 "nbformat": 4,
 "nbformat_minor": 2
}
